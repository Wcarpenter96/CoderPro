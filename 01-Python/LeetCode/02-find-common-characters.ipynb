{
 "cells": [
  {
   "cell_type": "code",
   "execution_count": 59,
   "metadata": {},
   "outputs": [],
   "source": [
    "from collections import Counter\n",
    "\n",
    "class Solution:\n",
    "    def commonChars(self, A):\n",
    "        words=Counter(A[0])\n",
    "        for i in range(1,len(A)):\n",
    "            words=words&(Counter(A[i]))\n",
    "        common_chars=[]\n",
    "        for i in words.keys():\n",
    "            if words[i]>1:\n",
    "                for k in range(1,words[i]):\n",
    "                    common_chars.append(i)\n",
    "            common_chars.append(i)\n",
    "    \n",
    "        return common_chars"
   ]
  },
  {
   "cell_type": "code",
   "execution_count": 60,
   "metadata": {},
   "outputs": [
    {
     "name": "stdout",
     "output_type": "stream",
     "text": [
      "['e', 'l', 'l']\n"
     ]
    }
   ],
   "source": [
    "print(Solution().commonChars([\"bella\",\"label\",\"roller\"]))"
   ]
  },
  {
   "cell_type": "code",
   "execution_count": null,
   "metadata": {},
   "outputs": [],
   "source": []
  }
 ],
 "metadata": {
  "kernelspec": {
   "display_name": "Python 3",
   "language": "python",
   "name": "python3"
  },
  "language_info": {
   "codemirror_mode": {
    "name": "ipython",
    "version": 3
   },
   "file_extension": ".py",
   "mimetype": "text/x-python",
   "name": "python",
   "nbconvert_exporter": "python",
   "pygments_lexer": "ipython3",
   "version": "3.7.4"
  }
 },
 "nbformat": 4,
 "nbformat_minor": 4
}
