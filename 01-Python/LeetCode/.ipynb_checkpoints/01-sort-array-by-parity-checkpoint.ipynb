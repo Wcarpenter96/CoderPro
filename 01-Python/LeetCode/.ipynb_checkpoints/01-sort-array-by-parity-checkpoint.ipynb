{
 "cells": [
  {
   "cell_type": "code",
   "execution_count": 38,
   "metadata": {},
   "outputs": [],
   "source": [
    "class Solution:\n",
    "    def sortArrayByParityII(self, A):\n",
    "#       iterate through A, create two lists of odd and even parity \n",
    "#       alternate and push elements from lists into res\n",
    "        res, odds, evens, = [],[],[]\n",
    "        for i,n in enumerate(A):\n",
    "            if i+1%2==0:\n",
    "                odds.append(n)\n",
    "            else:\n",
    "                evens.append(n)\n",
    "        for i in range(1):\n",
    "            res.append(odds[i])\n",
    "            res.append(evens[i])\n",
    "        return odds, evens"
   ]
  },
  {
   "cell_type": "code",
   "execution_count": 39,
   "metadata": {},
   "outputs": [
    {
     "name": "stdout",
     "output_type": "stream",
     "text": [
      "([4, 5], [2, 7])\n"
     ]
    }
   ],
   "source": [
    "print(Solution().sortArrayByParityII([4,2,5,7]))"
   ]
  },
  {
   "cell_type": "code",
   "execution_count": null,
   "metadata": {},
   "outputs": [],
   "source": []
  },
  {
   "cell_type": "code",
   "execution_count": null,
   "metadata": {},
   "outputs": [],
   "source": []
  }
 ],
 "metadata": {
  "kernelspec": {
   "display_name": "Python 3",
   "language": "python",
   "name": "python3"
  },
  "language_info": {
   "codemirror_mode": {
    "name": "ipython",
    "version": 3
   },
   "file_extension": ".py",
   "mimetype": "text/x-python",
   "name": "python",
   "nbconvert_exporter": "python",
   "pygments_lexer": "ipython3",
   "version": "3.7.4"
  }
 },
 "nbformat": 4,
 "nbformat_minor": 4
}
