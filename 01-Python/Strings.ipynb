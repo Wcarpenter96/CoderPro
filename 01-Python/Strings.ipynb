{
 "cells": [
  {
   "cell_type": "code",
   "execution_count": 4,
   "metadata": {},
   "outputs": [],
   "source": [
    "big_string = (\n",
    "    'Xslkdfj;asjfldsafksjfldksfjldsflsdjkfsf'\n",
    "    'Xlkjdfldjfkdjflsjkjfldsjkfjldsjfsdkkjfl'\n",
    "    'Xldkfjldjfdsjfsdjlfsdjkfjdslfjsdjfjldfl'\n",
    ")"
   ]
  },
  {
   "cell_type": "code",
   "execution_count": 5,
   "metadata": {},
   "outputs": [
    {
     "data": {
      "text/plain": [
       "'Xslkdfj;asjfldsafksjfldksfjldsflsdjkfsfXlkjdfldjfkdjflsjkjfldsjkfjldsjfsdkkjflXldkfjldjfdsjfsdjlfsdjkfjdslfjsdjfjldfl'"
      ]
     },
     "execution_count": 5,
     "metadata": {},
     "output_type": "execute_result"
    }
   ],
   "source": [
    "big_string"
   ]
  },
  {
   "cell_type": "code",
   "execution_count": null,
   "metadata": {},
   "outputs": [],
   "source": []
  }
 ],
 "metadata": {
  "kernelspec": {
   "display_name": "Python 3",
   "language": "python",
   "name": "python3"
  },
  "language_info": {
   "codemirror_mode": {
    "name": "ipython",
    "version": 3
   },
   "file_extension": ".py",
   "mimetype": "text/x-python",
   "name": "python",
   "nbconvert_exporter": "python",
   "pygments_lexer": "ipython3",
   "version": "3.7.4"
  }
 },
 "nbformat": 4,
 "nbformat_minor": 4
}
